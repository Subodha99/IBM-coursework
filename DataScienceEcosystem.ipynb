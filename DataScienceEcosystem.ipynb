{
 "cells": [
  {
   "cell_type": "markdown",
   "id": "0fd0d98c-fb90-47ab-b5df-7f7dcaaba678",
   "metadata": {},
   "source": [
    "# Data Science Tools and Ecosystem"
   ]
  },
  {
   "cell_type": "markdown",
   "id": "000dd4e5-f30b-414c-887d-82aaf5e7bffc",
   "metadata": {
    "tags": []
   },
   "source": [
    "##### In this notebook, Data Science Tools and Ecosystem are summarized.\n",
    "\n",
    "1. Programming Languages:\n",
    "Python: Widely used for data manipulation, machine learning, and visualization. Key libraries include Pandas, NumPy, SciPy, Matplotlib, Seaborn, Scikit-learn, TensorFlow, Keras, and PyTorch.\n",
    "R: Used for statistical analysis and visualization. Key packages include ggplot2, dplyr, tidyr, and caret.\n",
    "SQL: Used for database querying and manipulation.\n",
    "2. Development Environments:\n",
    "Jupyter Notebook: Interactive web-based environment for coding in Python, R, and other languages. Supports live code, equations, visualizations, and text.\n",
    "RStudio: IDE for R, providing a user-friendly interface for writing code, running analyses, and visualizing data.\n",
    "Apache Zeppelin: Web-based notebook for interactive data analytics, supporting multiple languages and interpreters.\n",
    "3. Data Manipulation and Analysis Libraries:\n",
    "Pandas (Python): Data manipulation and analysis.\n",
    "NumPy (Python): Numerical operations and array handling.\n",
    "SciPy (Python): Scientific computing and technical analysis.\n",
    "dplyr (R): Data manipulation and transformation.\n",
    "tidyr (R): Data tidying and reshaping.\n",
    "4. Visualization Tools:\n",
    "Matplotlib (Python): Static, animated, and interactive plots.\n",
    "Seaborn (Python): Statistical data visualization.\n",
    "ggplot2 (R): Elegant data visualization based on the Grammar of Graphics.\n",
    "Plotly (Python/R): Interactive plots and dashboards.\n",
    "5. Machine Learning and Deep Learning Frameworks:\n",
    "Scikit-learn (Python): Machine learning algorithms and tools.\n",
    "TensorFlow (Python): Deep learning and neural networks.\n",
    "Keras (Python): High-level neural networks API.\n",
    "PyTorch (Python): Deep learning framework with dynamic computation graphs.\n",
    "H2O.ai: Scalable machine learning and predictive analytics.\n",
    "6. Big Data Tools:\n",
    "Apache Spark: Distributed data processing and analytics.\n",
    "Dask: Parallel computing for large datasets in Python.\n",
    "7. Version Control and Collaboration:\n",
    "Git: Version control system for tracking changes in source code.\n",
    "GitHub/GitLab/Bitbucket: Platforms for hosting repositories and collaborating on code.\n",
    "8. Integrated Development Environments (IDEs):\n",
    "PyCharm: IDE for Python development.\n",
    "Visual Studio Code: Code editor with support for various programming languages and extensions.\n",
    "9. Data Management and Databases:\n",
    "MySQL/PostgreSQL: Relational database management systems.\n",
    "MongoDB: NoSQL database for unstructured data.\n",
    "10. Deployment and Production:\n",
    "Docker: Containerization platform for creating and managing isolated environments.\n",
    "Kubernetes: Container orchestration for managing and scaling applications."
   ]
  },
  {
   "cell_type": "markdown",
   "id": "700c7ebc-6ce6-4903-9636-04aafad3d140",
   "metadata": {},
   "source": [
    "__Objectives :__ \n",
    "\n",
    "+ Data Science Tools and Ecosystem\n",
    "+ List popular languages for Data Science\n",
    "+ commonly used libraries used by Data Scientists\n",
    "+ examples of evaluating arithmetic expressions in Python\n",
    "+ examples of evaluating arithmetic expression to mutiply then add integers\n",
    "+ examples of evaluating divition in Python"
   ]
  },
  {
   "cell_type": "markdown",
   "id": "24c4d5ef-4267-48cc-8022-cc9d85f782e6",
   "metadata": {},
   "source": [
    "##### Some of the popular languages that Data Scientists use are:\n",
    "\n",
    "##### Ordered list\n",
    "\n",
    "1. Python \n",
    "2. SQL\n",
    "3. R"
   ]
  },
  {
   "cell_type": "markdown",
   "id": "2dff97f2-889a-432e-8864-a5dfce545a4b",
   "metadata": {},
   "source": [
    "##### Some of the commonly used libraries used by Data Scientists include:\n",
    "\n",
    "##### Ordered list\n",
    "\n",
    "1. Pandas\n",
    "2. Numpy\n",
    "3. Matplotlib\n",
    "4. Scikit-learn"
   ]
  },
  {
   "cell_type": "markdown",
   "id": "690f9547-f37f-4bc9-861e-2c8f8b23a907",
   "metadata": {},
   "source": [
    "| Data Science Tools |\n",
    "-----------------------\n",
    "| Jupyter Notebook |\n",
    "| R studio |\n",
    "| Apache |"
   ]
  },
  {
   "cell_type": "markdown",
   "id": "805ed742-5230-4e7c-93d7-73f116163b3d",
   "metadata": {},
   "source": [
    "##### Below are a few examples of evaluating arithmetic expressions in Python"
   ]
  },
  {
   "cell_type": "code",
   "execution_count": 5,
   "id": "43a65382-36f1-42db-a238-4668492abbe0",
   "metadata": {
    "tags": []
   },
   "outputs": [
    {
     "data": {
      "text/plain": [
       "3"
      ]
     },
     "execution_count": 5,
     "metadata": {},
     "output_type": "execute_result"
    }
   ],
   "source": [
    "1 + 2"
   ]
  },
  {
   "cell_type": "markdown",
   "id": "810ae0a0-0db8-4e22-a009-7b1086fb6531",
   "metadata": {},
   "source": [
    "##### This a simple arithmetic expression to mutiply then add integers"
   ]
  },
  {
   "cell_type": "code",
   "execution_count": 6,
   "id": "b614d202-7559-4656-a210-6cbf36d7e0df",
   "metadata": {
    "tags": []
   },
   "outputs": [
    {
     "data": {
      "text/plain": [
       "17"
      ]
     },
     "execution_count": 6,
     "metadata": {},
     "output_type": "execute_result"
    }
   ],
   "source": [
    "(3*4)+5"
   ]
  },
  {
   "cell_type": "markdown",
   "id": "e9018c23-731e-44c1-a8ea-4f9de487ef17",
   "metadata": {},
   "source": [
    "##### This will convert 200 minutes to hours by diving by 60"
   ]
  },
  {
   "cell_type": "code",
   "execution_count": 7,
   "id": "bf713d4a-ff86-4a12-b573-55834b4566f5",
   "metadata": {
    "tags": []
   },
   "outputs": [
    {
     "data": {
      "text/plain": [
       "3.3333333333333335"
      ]
     },
     "execution_count": 7,
     "metadata": {},
     "output_type": "execute_result"
    }
   ],
   "source": [
    "200 / 60"
   ]
  },
  {
   "cell_type": "markdown",
   "id": "44eeaabf-3970-455f-8568-4a35abb6dbc6",
   "metadata": {},
   "source": [
    "## Author\n",
    " \n",
    "Dovinda Gunathilake"
   ]
  },
  {
   "cell_type": "code",
   "execution_count": null,
   "id": "75bc544e-8577-41a3-af93-ddca1df4cb24",
   "metadata": {},
   "outputs": [],
   "source": []
  }
 ],
 "metadata": {
  "kernelspec": {
   "display_name": "Python",
   "language": "python",
   "name": "conda-env-python-py"
  },
  "language_info": {
   "codemirror_mode": {
    "name": "ipython",
    "version": 3
   },
   "file_extension": ".py",
   "mimetype": "text/x-python",
   "name": "python",
   "nbconvert_exporter": "python",
   "pygments_lexer": "ipython3",
   "version": "3.7.12"
  }
 },
 "nbformat": 4,
 "nbformat_minor": 5
}
